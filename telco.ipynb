{
 "cells": [
  {
   "cell_type": "code",
   "execution_count": 40,
   "metadata": {},
   "outputs": [],
   "source": [
    "import pandas as pd\n",
    "import numpy as np\n",
    "import seaborn as sns\n",
    "import matplotlib.pyplot as plt\n",
    "import pandas_profiling\n",
    "%matplotlib inline\n",
    "from IPython.core.interactiveshell import InteractiveShell\n",
    "InteractiveShell.ast_node_interactivity = \"all\"\n",
    "import matplotlib\n",
    "import matplotlib.pyplot as plt\n",
    "%matplotlib inline\n",
    "plt.style.use('ggplot')  # set the plotting style to ggplot\n",
    "from sklearn.metrics import accuracy_score\n",
    "from sklearn.metrics import precision_score\n",
    "from sklearn.metrics import confusion_matrix\n",
    "from sklearn.ensemble import RandomForestRegressor, RandomForestClassifier, GradientBoostingRegressor\n",
    "from sklearn.preprocessing import StandardScaler\n",
    "from sklearn.pipeline import make_pipeline\n",
    "from sklearn.preprocessing import RobustScaler\n",
    "from sklearn.model_selection import train_test_split, KFold, cross_val_score, cross_val_predict\n",
    "from sklearn.preprocessing import Imputer, RobustScaler, FunctionTransformer\n",
    "from sklearn.pipeline import make_pipeline\n",
    "from sklearn import model_selection\n",
    "from sklearn.model_selection import GridSearchCV, RandomizedSearchCV\n",
    "from sklearn.linear_model import LogisticRegression\n",
    "from sklearn.metrics import classification_report, confusion_matrix\n",
    "from sklearn.metrics import roc_curve, precision_recall_curve, auc, make_scorer, recall_score, accuracy_score, precision_score, confusion_matrix\n",
    "from sklearn.datasets import load_digits\n",
    "from sklearn.model_selection import learning_curve\n",
    "from sklearn.model_selection import ShuffleSplit\n",
    "\n",
    "import warnings;\n",
    "warnings.filterwarnings('ignore');"
   ]
  },
  {
   "cell_type": "code",
   "execution_count": 41,
   "metadata": {},
   "outputs": [],
   "source": [
    "df = pd.read_csv(\"WA_Fn-UseC_-Telco-Customer-Churn.csv\")"
   ]
  },
  {
   "cell_type": "code",
   "execution_count": 42,
   "metadata": {},
   "outputs": [
    {
     "data": {
      "text/plain": [
       "(7043, 21)"
      ]
     },
     "execution_count": 42,
     "metadata": {},
     "output_type": "execute_result"
    }
   ],
   "source": [
    "df.shape"
   ]
  },
  {
   "cell_type": "code",
   "execution_count": 43,
   "metadata": {
    "scrolled": false
   },
   "outputs": [
    {
     "data": {
      "text/html": [
       "<div>\n",
       "<style scoped>\n",
       "    .dataframe tbody tr th:only-of-type {\n",
       "        vertical-align: middle;\n",
       "    }\n",
       "\n",
       "    .dataframe tbody tr th {\n",
       "        vertical-align: top;\n",
       "    }\n",
       "\n",
       "    .dataframe thead th {\n",
       "        text-align: right;\n",
       "    }\n",
       "</style>\n",
       "<table border=\"1\" class=\"dataframe\">\n",
       "  <thead>\n",
       "    <tr style=\"text-align: right;\">\n",
       "      <th></th>\n",
       "      <th>customerID</th>\n",
       "      <th>gender</th>\n",
       "      <th>SeniorCitizen</th>\n",
       "      <th>Partner</th>\n",
       "      <th>Dependents</th>\n",
       "      <th>tenure</th>\n",
       "      <th>PhoneService</th>\n",
       "      <th>MultipleLines</th>\n",
       "      <th>InternetService</th>\n",
       "      <th>OnlineSecurity</th>\n",
       "      <th>...</th>\n",
       "      <th>DeviceProtection</th>\n",
       "      <th>TechSupport</th>\n",
       "      <th>StreamingTV</th>\n",
       "      <th>StreamingMovies</th>\n",
       "      <th>Contract</th>\n",
       "      <th>PaperlessBilling</th>\n",
       "      <th>PaymentMethod</th>\n",
       "      <th>MonthlyCharges</th>\n",
       "      <th>TotalCharges</th>\n",
       "      <th>Churn</th>\n",
       "    </tr>\n",
       "  </thead>\n",
       "  <tbody>\n",
       "    <tr>\n",
       "      <th>308</th>\n",
       "      <td>3167-SNQPL</td>\n",
       "      <td>Male</td>\n",
       "      <td>1</td>\n",
       "      <td>Yes</td>\n",
       "      <td>Yes</td>\n",
       "      <td>38</td>\n",
       "      <td>Yes</td>\n",
       "      <td>Yes</td>\n",
       "      <td>Fiber optic</td>\n",
       "      <td>No</td>\n",
       "      <td>...</td>\n",
       "      <td>No</td>\n",
       "      <td>No</td>\n",
       "      <td>Yes</td>\n",
       "      <td>Yes</td>\n",
       "      <td>Month-to-month</td>\n",
       "      <td>No</td>\n",
       "      <td>Electronic check</td>\n",
       "      <td>101.15</td>\n",
       "      <td>3741.85</td>\n",
       "      <td>No</td>\n",
       "    </tr>\n",
       "    <tr>\n",
       "      <th>6162</th>\n",
       "      <td>9000-PLFUZ</td>\n",
       "      <td>Female</td>\n",
       "      <td>1</td>\n",
       "      <td>Yes</td>\n",
       "      <td>No</td>\n",
       "      <td>60</td>\n",
       "      <td>No</td>\n",
       "      <td>No phone service</td>\n",
       "      <td>DSL</td>\n",
       "      <td>No</td>\n",
       "      <td>...</td>\n",
       "      <td>No</td>\n",
       "      <td>No</td>\n",
       "      <td>Yes</td>\n",
       "      <td>Yes</td>\n",
       "      <td>Two year</td>\n",
       "      <td>Yes</td>\n",
       "      <td>Credit card (automatic)</td>\n",
       "      <td>49.45</td>\n",
       "      <td>2907.55</td>\n",
       "      <td>No</td>\n",
       "    </tr>\n",
       "    <tr>\n",
       "      <th>2032</th>\n",
       "      <td>3753-TSEMP</td>\n",
       "      <td>Female</td>\n",
       "      <td>0</td>\n",
       "      <td>Yes</td>\n",
       "      <td>No</td>\n",
       "      <td>15</td>\n",
       "      <td>Yes</td>\n",
       "      <td>No</td>\n",
       "      <td>Fiber optic</td>\n",
       "      <td>No</td>\n",
       "      <td>...</td>\n",
       "      <td>No</td>\n",
       "      <td>No</td>\n",
       "      <td>Yes</td>\n",
       "      <td>Yes</td>\n",
       "      <td>Month-to-month</td>\n",
       "      <td>No</td>\n",
       "      <td>Electronic check</td>\n",
       "      <td>88.15</td>\n",
       "      <td>1390.6</td>\n",
       "      <td>Yes</td>\n",
       "    </tr>\n",
       "    <tr>\n",
       "      <th>2301</th>\n",
       "      <td>4813-HQMGZ</td>\n",
       "      <td>Female</td>\n",
       "      <td>0</td>\n",
       "      <td>Yes</td>\n",
       "      <td>No</td>\n",
       "      <td>8</td>\n",
       "      <td>Yes</td>\n",
       "      <td>Yes</td>\n",
       "      <td>Fiber optic</td>\n",
       "      <td>No</td>\n",
       "      <td>...</td>\n",
       "      <td>No</td>\n",
       "      <td>Yes</td>\n",
       "      <td>No</td>\n",
       "      <td>Yes</td>\n",
       "      <td>Month-to-month</td>\n",
       "      <td>Yes</td>\n",
       "      <td>Electronic check</td>\n",
       "      <td>90.25</td>\n",
       "      <td>743.75</td>\n",
       "      <td>No</td>\n",
       "    </tr>\n",
       "    <tr>\n",
       "      <th>1675</th>\n",
       "      <td>6311-UEUME</td>\n",
       "      <td>Female</td>\n",
       "      <td>0</td>\n",
       "      <td>No</td>\n",
       "      <td>No</td>\n",
       "      <td>29</td>\n",
       "      <td>Yes</td>\n",
       "      <td>No</td>\n",
       "      <td>Fiber optic</td>\n",
       "      <td>No</td>\n",
       "      <td>...</td>\n",
       "      <td>No</td>\n",
       "      <td>No</td>\n",
       "      <td>Yes</td>\n",
       "      <td>No</td>\n",
       "      <td>Month-to-month</td>\n",
       "      <td>Yes</td>\n",
       "      <td>Electronic check</td>\n",
       "      <td>78.90</td>\n",
       "      <td>2384.15</td>\n",
       "      <td>Yes</td>\n",
       "    </tr>\n",
       "  </tbody>\n",
       "</table>\n",
       "<p>5 rows × 21 columns</p>\n",
       "</div>"
      ],
      "text/plain": [
       "      customerID  gender  SeniorCitizen Partner Dependents  tenure  \\\n",
       "308   3167-SNQPL    Male              1     Yes        Yes      38   \n",
       "6162  9000-PLFUZ  Female              1     Yes         No      60   \n",
       "2032  3753-TSEMP  Female              0     Yes         No      15   \n",
       "2301  4813-HQMGZ  Female              0     Yes         No       8   \n",
       "1675  6311-UEUME  Female              0      No         No      29   \n",
       "\n",
       "     PhoneService     MultipleLines InternetService OnlineSecurity  ...   \\\n",
       "308           Yes               Yes     Fiber optic             No  ...    \n",
       "6162           No  No phone service             DSL             No  ...    \n",
       "2032          Yes                No     Fiber optic             No  ...    \n",
       "2301          Yes               Yes     Fiber optic             No  ...    \n",
       "1675          Yes                No     Fiber optic             No  ...    \n",
       "\n",
       "     DeviceProtection TechSupport StreamingTV StreamingMovies        Contract  \\\n",
       "308                No          No         Yes             Yes  Month-to-month   \n",
       "6162               No          No         Yes             Yes        Two year   \n",
       "2032               No          No         Yes             Yes  Month-to-month   \n",
       "2301               No         Yes          No             Yes  Month-to-month   \n",
       "1675               No          No         Yes              No  Month-to-month   \n",
       "\n",
       "     PaperlessBilling            PaymentMethod MonthlyCharges  TotalCharges  \\\n",
       "308                No         Electronic check         101.15       3741.85   \n",
       "6162              Yes  Credit card (automatic)          49.45       2907.55   \n",
       "2032               No         Electronic check          88.15        1390.6   \n",
       "2301              Yes         Electronic check          90.25        743.75   \n",
       "1675              Yes         Electronic check          78.90       2384.15   \n",
       "\n",
       "     Churn  \n",
       "308     No  \n",
       "6162    No  \n",
       "2032   Yes  \n",
       "2301    No  \n",
       "1675   Yes  \n",
       "\n",
       "[5 rows x 21 columns]"
      ]
     },
     "execution_count": 43,
     "metadata": {},
     "output_type": "execute_result"
    }
   ],
   "source": [
    "df.sample(5)"
   ]
  },
  {
   "cell_type": "code",
   "execution_count": 44,
   "metadata": {
    "scrolled": false
   },
   "outputs": [
    {
     "data": {
      "text/plain": [
       "customerID           object\n",
       "gender               object\n",
       "SeniorCitizen         int64\n",
       "Partner              object\n",
       "Dependents           object\n",
       "tenure                int64\n",
       "PhoneService         object\n",
       "MultipleLines        object\n",
       "InternetService      object\n",
       "OnlineSecurity       object\n",
       "OnlineBackup         object\n",
       "DeviceProtection     object\n",
       "TechSupport          object\n",
       "StreamingTV          object\n",
       "StreamingMovies      object\n",
       "Contract             object\n",
       "PaperlessBilling     object\n",
       "PaymentMethod        object\n",
       "MonthlyCharges      float64\n",
       "TotalCharges         object\n",
       "Churn                object\n",
       "dtype: object"
      ]
     },
     "execution_count": 44,
     "metadata": {},
     "output_type": "execute_result"
    }
   ],
   "source": [
    "df.dtypes"
   ]
  },
  {
   "cell_type": "code",
   "execution_count": 45,
   "metadata": {},
   "outputs": [],
   "source": [
    "# little cleaning to start\n",
    "\n",
    "df = df.drop(columns=['customerID'])"
   ]
  },
  {
   "cell_type": "code",
   "execution_count": 46,
   "metadata": {
    "code_folding": [
     1
    ],
    "scrolled": true
   },
   "outputs": [
    {
     "name": "stdout",
     "output_type": "stream",
     "text": [
      "Your selected dataframe has 20 columns.\n",
      "There are 0 columns that have missing values.\n"
     ]
    },
    {
     "data": {
      "text/html": [
       "<div>\n",
       "<style scoped>\n",
       "    .dataframe tbody tr th:only-of-type {\n",
       "        vertical-align: middle;\n",
       "    }\n",
       "\n",
       "    .dataframe tbody tr th {\n",
       "        vertical-align: top;\n",
       "    }\n",
       "\n",
       "    .dataframe thead th {\n",
       "        text-align: right;\n",
       "    }\n",
       "</style>\n",
       "<table border=\"1\" class=\"dataframe\">\n",
       "  <thead>\n",
       "    <tr style=\"text-align: right;\">\n",
       "      <th></th>\n",
       "      <th>Missing Values</th>\n",
       "      <th>% of Total Values</th>\n",
       "    </tr>\n",
       "  </thead>\n",
       "  <tbody>\n",
       "  </tbody>\n",
       "</table>\n",
       "</div>"
      ],
      "text/plain": [
       "Empty DataFrame\n",
       "Columns: [Missing Values, % of Total Values]\n",
       "Index: []"
      ]
     },
     "execution_count": 46,
     "metadata": {},
     "output_type": "execute_result"
    }
   ],
   "source": [
    "# Function to calculate missing values by column\n",
    "def missing_values_table(df):\n",
    "        # Total missing values\n",
    "        mis_val = df.isnull().sum()\n",
    "        \n",
    "        # Percentage of missing values\n",
    "        mis_val_percent = 100 * df.isnull().sum() / len(df)\n",
    "        \n",
    "        # Make a table with the results\n",
    "        mis_val_table = pd.concat([mis_val, mis_val_percent], axis=1)\n",
    "        \n",
    "        # Rename the columns\n",
    "        mis_val_table_ren_columns = mis_val_table.rename(\n",
    "        columns = {0 : 'Missing Values', 1 : '% of Total Values'})\n",
    "        \n",
    "        # Sort the table by percentage of missing descending\n",
    "        mis_val_table_ren_columns = mis_val_table_ren_columns[\n",
    "            mis_val_table_ren_columns.iloc[:,1] != 0].sort_values(\n",
    "        '% of Total Values', ascending=False).round(1)\n",
    "        \n",
    "        # Print some summary information\n",
    "        print (\"Your selected dataframe has \" + str(df.shape[1]) + \" columns.\\n\"      \n",
    "            \"There are \" + str(mis_val_table_ren_columns.shape[0]) +\n",
    "              \" columns that have missing values.\")\n",
    "        \n",
    "        # Return the dataframe with missing information\n",
    "        return mis_val_table_ren_columns\n",
    "\n",
    "missing_values_table(df)"
   ]
  },
  {
   "cell_type": "code",
   "execution_count": 47,
   "metadata": {},
   "outputs": [],
   "source": [
    "df2 = df.copy()"
   ]
  },
  {
   "cell_type": "code",
   "execution_count": 48,
   "metadata": {},
   "outputs": [],
   "source": [
    "cols = ['PhoneService','MultipleLines','InternetService',\n",
    "        'OnlineSecurity','OnlineBackup','DeviceProtection',\n",
    "        'TechSupport','StreamingTV','StreamingMovies']\n",
    "\n",
    "for columns in cols:\n",
    "    df2[columns] = df2[columns].apply(lambda x: 1 if x == 'Yes' else 0).astype(int)\n"
   ]
  },
  {
   "cell_type": "code",
   "execution_count": 49,
   "metadata": {},
   "outputs": [],
   "source": [
    "df2['count_of_services'] = df2.apply(lambda row: row.PhoneService + row.MultipleLines +\n",
    "                                     row.InternetService + row.OnlineSecurity + row.OnlineBackup + \n",
    "                                     row.DeviceProtection + row.TechSupport + row.StreamingTV + row.StreamingMovies, axis=1)\n",
    "\n",
    "df['count_of_services'] = df2['count_of_services']"
   ]
  },
  {
   "cell_type": "code",
   "execution_count": 50,
   "metadata": {},
   "outputs": [],
   "source": [
    "cols = ['Churn']\n",
    "\n",
    "for columns in cols:\n",
    "    df[columns] = df[columns].apply(lambda x: 0 if x == 'No' else 1)\n",
    "\n",
    "#     , 'Partner', 'Dependents', 'PhoneService', \n",
    "#         'MultipleLines', 'PaperlessBilling'\n",
    "\n",
    "    \n",
    "# cols2 = ['OnlineSecurity', 'OnlineBackup', 'DeviceProtection', 'TechSupport', 'StreamingTV', 'StreamingMovies']    \n",
    "# for columns in cols2:\n",
    "#     df[columns] = df[columns].apply(lambda x: 0 if x == 'No')\n",
    "\n",
    "    \n",
    "# df['gender'] = df['gender'].apply(lambda x: 0 if x == 'Female' else 0)    \n",
    "# df['StreamingMovies'] = df['StreamingMovies'].apply(lambda x: 1 if x == 'Yes' else 0 )"
   ]
  },
  {
   "cell_type": "code",
   "execution_count": 51,
   "metadata": {},
   "outputs": [
    {
     "data": {
      "text/plain": [
       "0    5174\n",
       "1    1869\n",
       "Name: Churn, dtype: int64"
      ]
     },
     "execution_count": 51,
     "metadata": {},
     "output_type": "execute_result"
    }
   ],
   "source": [
    "df['Churn'].value_counts()"
   ]
  },
  {
   "cell_type": "code",
   "execution_count": 52,
   "metadata": {},
   "outputs": [],
   "source": [
    "df['MonthlyCharges'] = df['MonthlyCharges'].astype(float)\n",
    "df['TotalCharges'] = df[\"TotalCharges\"].replace(\" \",np.nan)\n",
    "df['TotalCharges'] = df['TotalCharges'].astype(float)\n"
   ]
  },
  {
   "cell_type": "code",
   "execution_count": 53,
   "metadata": {},
   "outputs": [],
   "source": [
    "#Tenure to categorical column\n",
    "def tenure_lab(df) :\n",
    "    \n",
    "    if df[\"tenure\"] <= 6 :\n",
    "        return \"Tenure_0-6\"\n",
    "    elif (df[\"tenure\"] > 6) & (df[\"tenure\"] <= 12 ):\n",
    "        return \"Tenure_6-12\"\n",
    "    elif (df[\"tenure\"] > 12) & (df[\"tenure\"] <= 18 ):\n",
    "        return \"Tenure_12-18\"\n",
    "    elif (df[\"tenure\"] > 18) & (df[\"tenure\"] <= 24 ):\n",
    "        return \"Tenure_18-24\"\n",
    "    elif (df[\"tenure\"] > 24) & (df[\"tenure\"] <= 30 ):\n",
    "        return \"Tenure_24-30\"\n",
    "    elif (df[\"tenure\"] > 30) & (df[\"tenure\"] <= 36 ):\n",
    "        return \"Tenure_30-36\"\n",
    "    elif (df[\"tenure\"] > 36) & (df[\"tenure\"] <= 42) :\n",
    "        return \"Tenure_36-42\"\n",
    "    elif (df[\"tenure\"] > 42) & (df[\"tenure\"] <= 48) :\n",
    "        return \"Tenure_42-48\"\n",
    "    elif (df[\"tenure\"] > 48) & (df[\"tenure\"] <= 54 ):\n",
    "        return \"Tenure_48-54\"\n",
    "    elif (df[\"tenure\"] > 54) & (df[\"tenure\"] <= 60 ):\n",
    "        return \"Tenure_54-60\"\n",
    "    elif df[\"tenure\"] > 60 :\n",
    "        return \"Tenure_gt_60\"\n",
    "df[\"tenure_group\"] = df.apply(lambda df:tenure_lab(df),\n",
    "                                      axis = 1)\n",
    "\n",
    "df = df.drop('tenure', axis = 1)"
   ]
  },
  {
   "cell_type": "code",
   "execution_count": 54,
   "metadata": {},
   "outputs": [],
   "source": [
    "cat_features = df.select_dtypes(include = [\"object\"]).columns\n",
    "num_features = df.select_dtypes(exclude = [\"object\"]).columns"
   ]
  },
  {
   "cell_type": "code",
   "execution_count": 55,
   "metadata": {},
   "outputs": [
    {
     "data": {
      "text/plain": [
       "Index(['gender', 'Partner', 'Dependents', 'PhoneService', 'MultipleLines',\n",
       "       'InternetService', 'OnlineSecurity', 'OnlineBackup', 'DeviceProtection',\n",
       "       'TechSupport', 'StreamingTV', 'StreamingMovies', 'Contract',\n",
       "       'PaperlessBilling', 'PaymentMethod', 'tenure_group'],\n",
       "      dtype='object')"
      ]
     },
     "execution_count": 55,
     "metadata": {},
     "output_type": "execute_result"
    }
   ],
   "source": [
    "cat_features"
   ]
  },
  {
   "cell_type": "code",
   "execution_count": 56,
   "metadata": {},
   "outputs": [],
   "source": [
    "df = pd.get_dummies(df, columns = cat_features)"
   ]
  },
  {
   "cell_type": "code",
   "execution_count": 57,
   "metadata": {},
   "outputs": [
    {
     "data": {
      "text/plain": [
       "(7043, 57)"
      ]
     },
     "execution_count": 57,
     "metadata": {},
     "output_type": "execute_result"
    }
   ],
   "source": [
    "df.shape"
   ]
  },
  {
   "cell_type": "code",
   "execution_count": 58,
   "metadata": {},
   "outputs": [],
   "source": [
    "# df['MonthlyCharges'] = np.log(df['MonthlyCharges'])\n",
    "# df['TotalCharges'] = np.log(df['TotalCharges'])"
   ]
  },
  {
   "cell_type": "code",
   "execution_count": 59,
   "metadata": {},
   "outputs": [
    {
     "data": {
      "text/html": [
       "<div>\n",
       "<style scoped>\n",
       "    .dataframe tbody tr th:only-of-type {\n",
       "        vertical-align: middle;\n",
       "    }\n",
       "\n",
       "    .dataframe tbody tr th {\n",
       "        vertical-align: top;\n",
       "    }\n",
       "\n",
       "    .dataframe thead th {\n",
       "        text-align: right;\n",
       "    }\n",
       "</style>\n",
       "<table border=\"1\" class=\"dataframe\">\n",
       "  <thead>\n",
       "    <tr style=\"text-align: right;\">\n",
       "      <th></th>\n",
       "      <th>TotalCharges</th>\n",
       "      <th>MonthlyCharges</th>\n",
       "    </tr>\n",
       "  </thead>\n",
       "  <tbody>\n",
       "    <tr>\n",
       "      <th>0</th>\n",
       "      <td>29.85</td>\n",
       "      <td>29.85</td>\n",
       "    </tr>\n",
       "    <tr>\n",
       "      <th>1</th>\n",
       "      <td>1889.50</td>\n",
       "      <td>56.95</td>\n",
       "    </tr>\n",
       "    <tr>\n",
       "      <th>2</th>\n",
       "      <td>108.15</td>\n",
       "      <td>53.85</td>\n",
       "    </tr>\n",
       "    <tr>\n",
       "      <th>3</th>\n",
       "      <td>1840.75</td>\n",
       "      <td>42.30</td>\n",
       "    </tr>\n",
       "    <tr>\n",
       "      <th>4</th>\n",
       "      <td>151.65</td>\n",
       "      <td>70.70</td>\n",
       "    </tr>\n",
       "    <tr>\n",
       "      <th>5</th>\n",
       "      <td>820.50</td>\n",
       "      <td>99.65</td>\n",
       "    </tr>\n",
       "    <tr>\n",
       "      <th>6</th>\n",
       "      <td>1949.40</td>\n",
       "      <td>89.10</td>\n",
       "    </tr>\n",
       "    <tr>\n",
       "      <th>7</th>\n",
       "      <td>301.90</td>\n",
       "      <td>29.75</td>\n",
       "    </tr>\n",
       "    <tr>\n",
       "      <th>8</th>\n",
       "      <td>3046.05</td>\n",
       "      <td>104.80</td>\n",
       "    </tr>\n",
       "    <tr>\n",
       "      <th>9</th>\n",
       "      <td>3487.95</td>\n",
       "      <td>56.15</td>\n",
       "    </tr>\n",
       "  </tbody>\n",
       "</table>\n",
       "</div>"
      ],
      "text/plain": [
       "   TotalCharges  MonthlyCharges\n",
       "0         29.85           29.85\n",
       "1       1889.50           56.95\n",
       "2        108.15           53.85\n",
       "3       1840.75           42.30\n",
       "4        151.65           70.70\n",
       "5        820.50           99.65\n",
       "6       1949.40           89.10\n",
       "7        301.90           29.75\n",
       "8       3046.05          104.80\n",
       "9       3487.95           56.15"
      ]
     },
     "execution_count": 59,
     "metadata": {},
     "output_type": "execute_result"
    }
   ],
   "source": [
    "df[['TotalCharges', 'MonthlyCharges']].head(10)"
   ]
  },
  {
   "cell_type": "code",
   "execution_count": 60,
   "metadata": {},
   "outputs": [
    {
     "name": "stdout",
     "output_type": "stream",
     "text": [
      "Most Positive Correlations:\n",
      " MultipleLines_Yes                 0.040102\n",
      "StreamingMovies_Yes               0.061382\n",
      "StreamingTV_Yes                   0.063228\n",
      "tenure_group_Tenure_6-12          0.070623\n",
      "StreamingTV_No                    0.128916\n",
      "StreamingMovies_No                0.130845\n",
      "Partner_No                        0.150448\n",
      "SeniorCitizen                     0.150889\n",
      "Dependents_No                     0.164221\n",
      "PaperlessBilling_Yes              0.191825\n",
      "MonthlyCharges                    0.193356\n",
      "DeviceProtection_No               0.252481\n",
      "OnlineBackup_No                   0.268005\n",
      "PaymentMethod_Electronic check    0.301919\n",
      "InternetService_Fiber optic       0.308020\n",
      "tenure_group_Tenure_0-6           0.308539\n",
      "TechSupport_No                    0.337281\n",
      "OnlineSecurity_No                 0.342637\n",
      "Contract_Month-to-month           0.405103\n",
      "Churn                             1.000000\n",
      "Name: Churn, dtype: float64\n",
      "\n",
      "Most Negative Correlations:\n",
      " Contract_Two year                         -0.302253\n",
      "StreamingMovies_No internet service       -0.227890\n",
      "StreamingTV_No internet service           -0.227890\n",
      "TechSupport_No internet service           -0.227890\n",
      "DeviceProtection_No internet service      -0.227890\n",
      "OnlineBackup_No internet service          -0.227890\n",
      "OnlineSecurity_No internet service        -0.227890\n",
      "InternetService_No                        -0.227890\n",
      "tenure_group_Tenure_gt_60                 -0.225500\n",
      "TotalCharges                              -0.199484\n",
      "PaperlessBilling_No                       -0.191825\n",
      "Contract_One year                         -0.177820\n",
      "OnlineSecurity_Yes                        -0.171226\n",
      "TechSupport_Yes                           -0.164674\n",
      "Dependents_Yes                            -0.164221\n",
      "Partner_Yes                               -0.150448\n",
      "PaymentMethod_Credit card (automatic)     -0.134302\n",
      "InternetService_DSL                       -0.124214\n",
      "PaymentMethod_Bank transfer (automatic)   -0.117937\n",
      "PaymentMethod_Mailed check                -0.091683\n",
      "Name: Churn, dtype: float64\n"
     ]
    }
   ],
   "source": [
    "def correlation(dataset, threshold):\n",
    "    col_corr = set() # Set of all the names of deleted columns\n",
    "    corr_matrix = dataset.corr()\n",
    "    for i in range(len(corr_matrix.columns)):\n",
    "        for j in range(i):\n",
    "            if (corr_matrix.iloc[i, j] >= threshold) and (corr_matrix.columns[j] not in col_corr):\n",
    "                colname = corr_matrix.columns[i] # getting the name of column\n",
    "                col_corr.add(colname)\n",
    "                if colname in dataset.columns:\n",
    "                    del dataset[colname] # deleting the column from the dataset\n",
    "\n",
    "    print(dataset)\n",
    "\n",
    "\n",
    "# Find correlations with the target and sort\n",
    "correlations = df.corr()['Churn'].sort_values()\n",
    "\n",
    "# Display correlations\n",
    "print('Most Positive Correlations:\\n', correlations.tail(20))\n",
    "print('\\nMost Negative Correlations:\\n', correlations.head(20))\n"
   ]
  },
  {
   "cell_type": "code",
   "execution_count": 61,
   "metadata": {},
   "outputs": [],
   "source": [
    "df = df[~df['TotalCharges'].isnull()]\n"
   ]
  },
  {
   "cell_type": "code",
   "execution_count": 62,
   "metadata": {},
   "outputs": [],
   "source": [
    "X = df.drop('Churn', axis = 1)\n",
    "Y = df['Churn']\n"
   ]
  },
  {
   "cell_type": "code",
   "execution_count": 63,
   "metadata": {},
   "outputs": [
    {
     "data": {
      "text/plain": [
       "MinMaxScaler(copy=True, feature_range=(0, 1))"
      ]
     },
     "execution_count": 63,
     "metadata": {},
     "output_type": "execute_result"
    }
   ],
   "source": [
    "# Scaling all the variables to a range of 0 to 1\n",
    "from sklearn.preprocessing import MinMaxScaler\n",
    "features = X.columns.values\n",
    "scaler = MinMaxScaler(feature_range = (0,1))\n",
    "scaler.fit(X)\n",
    "X = pd.DataFrame(scaler.transform(X))\n",
    "X.columns = features"
   ]
  },
  {
   "cell_type": "code",
   "execution_count": 64,
   "metadata": {},
   "outputs": [
    {
     "name": "stdout",
     "output_type": "stream",
     "text": [
      "Original data shapes: ((6328, 56), (704, 56))\n"
     ]
    }
   ],
   "source": [
    "from sklearn.model_selection import train_test_split\n",
    "\n",
    "X_train, X_test, y_train, y_test = train_test_split(X, Y, \n",
    "                                                    test_size = 0.10, shuffle = True, \n",
    "                                                    random_state = 123)\n",
    "\n",
    "print(f\"Original data shapes: {X_train.shape, X_test.shape}\")\n",
    "\n"
   ]
  },
  {
   "cell_type": "code",
   "execution_count": 65,
   "metadata": {
    "code_folding": [
     0
    ]
   },
   "outputs": [],
   "source": [
    "# Function to plot the learning curve - checking for overfitting\n",
    "\n",
    "def plot_learning_curve(estimator, title, X, y, ylim=None, cv=None,\n",
    "                        n_jobs=None, train_sizes=np.linspace(.1, 1.0, 5)):\n",
    "    \n",
    "    plt.figure()\n",
    "    plt.title(title)\n",
    "    if ylim is not None:\n",
    "        plt.ylim(*ylim)\n",
    "    plt.xlabel(\"Training examples\")\n",
    "    plt.ylabel(\"Score\")\n",
    "    train_sizes, train_scores, test_scores = learning_curve(\n",
    "        estimator, X, y, cv=cv, n_jobs=n_jobs, train_sizes=train_sizes)\n",
    "    train_scores_mean = np.mean(train_scores, axis=1)\n",
    "    train_scores_std = np.std(train_scores, axis=1)\n",
    "    test_scores_mean = np.mean(test_scores, axis=1)\n",
    "    test_scores_std = np.std(test_scores, axis=1)\n",
    "    plt.grid()\n",
    "\n",
    "    plt.fill_between(train_sizes, train_scores_mean - train_scores_std,\n",
    "                     train_scores_mean + train_scores_std, alpha=0.1,\n",
    "                     color=\"r\")\n",
    "    plt.fill_between(train_sizes, test_scores_mean - test_scores_std,\n",
    "                     test_scores_mean + test_scores_std, alpha=0.1, color=\"g\")\n",
    "    plt.plot(train_sizes, train_scores_mean, 'o-', color=\"r\",\n",
    "             label=\"Training score\")\n",
    "    plt.plot(train_sizes, test_scores_mean, 'o-', color=\"g\",\n",
    "             label=\"Cross-validation score\")\n",
    "\n",
    "    plt.legend(loc=\"best\")\n",
    "    return plt"
   ]
  },
  {
   "cell_type": "markdown",
   "metadata": {},
   "source": [
    "### Logistic Reg."
   ]
  },
  {
   "cell_type": "code",
   "execution_count": 66,
   "metadata": {
    "scrolled": false
   },
   "outputs": [
    {
     "data": {
      "text/plain": [
       "GridSearchCV(cv=None, error_score='raise-deprecating',\n",
       "       estimator=LogisticRegression(C=1.0, class_weight=None, dual=False, fit_intercept=True,\n",
       "          intercept_scaling=1, max_iter=100, multi_class='warn',\n",
       "          n_jobs=None, penalty='l2', random_state=None, solver='warn',\n",
       "          tol=0.0001, verbose=0, warm_start=False),\n",
       "       fit_params=None, iid='warn', n_jobs=None,\n",
       "       param_grid={'C': [0.001, 0.01, 0.1, 1, 10, 100, 1000]},\n",
       "       pre_dispatch='2*n_jobs', refit=True, return_train_score='warn',\n",
       "       scoring=None, verbose=0)"
      ]
     },
     "execution_count": 66,
     "metadata": {},
     "output_type": "execute_result"
    },
    {
     "name": "stdout",
     "output_type": "stream",
     "text": [
      "Best Penalty: l2\n",
      "Best C: 1.0\n"
     ]
    }
   ],
   "source": [
    "from sklearn.model_selection import GridSearchCV\n",
    "\n",
    "# Grid Search for Logistic\n",
    "\n",
    "param_grid = {'C': np.power(10.0, np.arange(-10, 10))}\n",
    "clf = GridSearchCV(LogisticRegression(penalty='l2'), param_grid)\n",
    "\n",
    "GridSearchCV(cv=None,\n",
    "             estimator=LogisticRegression(C=1.0, intercept_scaling=1,   \n",
    "               dual=False, fit_intercept=True, penalty='l2', tol=0.0001),\n",
    "             param_grid={'C': [0.001, 0.01, 0.1, 1, 10, 100, 1000]})\n",
    "\n",
    "best_model = clf.fit(X_train, y_train)\n",
    "\n",
    "print('Best Penalty:', best_model.best_estimator_.get_params()['penalty'])\n",
    "print('Best C:', best_model.best_estimator_.get_params()['C'])"
   ]
  },
  {
   "cell_type": "code",
   "execution_count": 67,
   "metadata": {},
   "outputs": [
    {
     "data": {
      "text/plain": [
       "LogisticRegression(C=1, class_weight=None, dual=False, fit_intercept=True,\n",
       "          intercept_scaling=1, max_iter=100, multi_class='warn',\n",
       "          n_jobs=None, penalty='l2', random_state=None, solver='warn',\n",
       "          tol=0.0001, verbose=0, warm_start=False)"
      ]
     },
     "execution_count": 67,
     "metadata": {},
     "output_type": "execute_result"
    },
    {
     "name": "stdout",
     "output_type": "stream",
     "text": [
      "\n",
      "========================================================\n",
      " Results from Logistic Regression \n",
      "========================================================\n",
      "\n",
      "\n",
      "Logistic Regression model's average AUC: 0.846\n",
      "\n",
      "\n",
      "              precision    recall  f1-score   support\n",
      "\n",
      "           0       0.82      0.93      0.88       502\n",
      "           1       0.75      0.50      0.60       202\n",
      "\n",
      "   micro avg       0.81      0.81      0.81       704\n",
      "   macro avg       0.79      0.72      0.74       704\n",
      "weighted avg       0.80      0.81      0.80       704\n",
      "\n",
      "\n",
      "========================================================\n",
      "\n",
      "\n",
      "\n",
      "\n",
      "Logistic Model's Accuracy Score is: 0.8096590909090909\n",
      "Logistic Model's Precision Score is 0.8029870087362231\n",
      "\n",
      "\n"
     ]
    }
   ],
   "source": [
    "logistic = LogisticRegression(penalty = 'l2', \n",
    "                              C = 1)\n",
    "\n",
    "pip_baseline = make_pipeline(RobustScaler(), logistic)\n",
    "scores = cross_val_score(pip_baseline,\n",
    "                         X_train, y_train,\n",
    "                         scoring = \"roc_auc\", cv = 5)\n",
    "\n",
    "logistic.fit(X_train,y_train)\n",
    "\n",
    "logistic_predictions = logistic.predict(X_test)\n",
    "logistic_prob = logistic.predict_proba(X_test)\n",
    "\n",
    "scores_log = cross_val_score(logistic,\n",
    "                         X_train, y_train,\n",
    "                         scoring=\"roc_auc\", cv=10)\n",
    "\n",
    "print(\"\\n========================================================\")\n",
    "print(\" Results from Logistic Regression \" )\n",
    "print(\"========================================================\")  \n",
    "print(\"\\n\")\n",
    "print(f\"Logistic Regression model's average AUC: {scores_log.mean():.3f}\")\n",
    "print(\"\\n\")\n",
    "print(classification_report(y_test, logistic_predictions))\n",
    "print(\"\\n========================================================\")\n",
    "print(\"\\n\")\n",
    "\n",
    "\n",
    "print(\"\\n\")\n",
    "print(f\"Logistic Model's Accuracy Score is: {accuracy_score(y_test, logistic_predictions)}\")\n",
    "print(f\"Logistic Model's Precision Score is {precision_score(y_test, logistic_predictions, average='weighted')}\")\n",
    "print(\"\\n\")\n"
   ]
  },
  {
   "cell_type": "code",
   "execution_count": 68,
   "metadata": {},
   "outputs": [
    {
     "data": {
      "text/plain": [
       "<Figure size 1152x576 with 0 Axes>"
      ]
     },
     "metadata": {},
     "output_type": "display_data"
    },
    {
     "data": {
      "image/png": "[encoded data removed]",
      "text/plain": [
       "<Figure size 288x288 with 1 Axes>"
      ]
     },
     "metadata": {},
     "output_type": "display_data"
    }
   ],
   "source": [
    "# Logistic Reg. Confusion Matrix\n",
    "y_true = y_test\n",
    "y_pred = logistic_predictions\n",
    "conf_mat = confusion_matrix(y_true, y_pred)\n",
    "plt.figure(figsize=(16, 8))\n",
    "plt.matshow(conf_mat, cmap = plt.cm.Reds, alpha=0.2)\n",
    "for i in range(2):\n",
    "    for j in range(2):\n",
    "        plt.text(x = j, y = i, s = conf_mat[i, j], ha=\"center\", va=\"center\")\n",
    "plt.title(\"Confusion matrix\", y=1.1, fontdict={\"fontsize\": 20})\n",
    "plt.xlabel(\"Predicted\", fontdict={\"fontsize\": 14})\n",
    "plt.ylabel(\"Actual\", fontdict={\"fontsize\": 14});"
   ]
  },
  {
   "cell_type": "code",
   "execution_count": 69,
   "metadata": {},
   "outputs": [
    {
     "data": {
      "text/plain": [
       "<module 'matplotlib.pyplot' from '/Users/yuce/.local/lib/python3.6/site-packages/matplotlib/pyplot.py'>"
      ]
     },
     "execution_count": 69,
     "metadata": {},
     "output_type": "execute_result"
    },
    {
     "data": {
      "image/png": "[encoded data removed]",
      "text/plain": [
       "<Figure size 432x288 with 1 Axes>"
      ]
     },
     "metadata": {},
     "output_type": "display_data"
    }
   ],
   "source": [
    "# Logistic Reg. Learning Curve\n",
    "\n",
    "title = \"Learning Curves for Logistic Regression\"\n",
    "# Cross validation with 100 iterations to get smoother mean test and train\n",
    "# score curves, each time with 20% data randomly selected as a validation set.\n",
    "cv = ShuffleSplit(n_splits=100, test_size=0.1, random_state=0)\n",
    "\n",
    "estimator = LogisticRegression(penalty = 'l2', C = 100, \n",
    "                                           class_weight= 'balanced')\n",
    "\n",
    "plot_learning_curve(estimator, title, X_train, y_train, ylim=(0.72, 0.78), cv=cv, n_jobs=4)\n",
    "        "
   ]
  },
  {
   "cell_type": "markdown",
   "metadata": {},
   "source": [
    "### Random Forest"
   ]
  },
  {
   "cell_type": "code",
   "execution_count": 70,
   "metadata": {},
   "outputs": [],
   "source": [
    "# rfc = RandomForestClassifier(random_state=123)\n",
    "# # rfc.fit(X_train,y_train)\n",
    "\n",
    "# param_grid = { \n",
    "#     'n_estimators': [200, 500, 1000],\n",
    "#     'max_features': ['auto', 'sqrt', 'log2'],\n",
    "#     'max_depth' : [4,5,6],\n",
    "#     'criterion' :['gini', 'entropy'],\n",
    "#     'max_features' :[0.1, 0.25, 0.50, 1]\n",
    "# }\n",
    "\n",
    "# scorers = {\n",
    "#     'precision_score': make_scorer(precision_score),\n",
    "#     'recall_score': make_scorer(recall_score),\n",
    "#     'accuracy_score': make_scorer(accuracy_score)\n",
    "# }\n",
    "\n",
    "\n",
    "# CV_rfc = GridSearchCV(estimator = rfc, scoring=scorers, param_grid = param_grid, cv = 10, refit = False)\n",
    "\n",
    "# CV_rfc.fit(X_train, y_train)"
   ]
  },
  {
   "cell_type": "code",
   "execution_count": 82,
   "metadata": {},
   "outputs": [
    {
     "data": {
      "text/plain": [
       "BalancedRandomForestClassifier(bootstrap=True, class_weight=None,\n",
       "                criterion='gini', max_depth=2, max_features='auto',\n",
       "                max_leaf_nodes=None, min_impurity_decrease=0.0,\n",
       "                min_samples_leaf=2, min_samples_split=2,\n",
       "                min_weight_fraction_leaf=0.0, n_estimators=100, n_jobs=-1,\n",
       "                oob_score=False, random_state=123, replacement=False,\n",
       "                sampling_strategy='auto', verbose=0, warm_start=False)"
      ]
     },
     "execution_count": 82,
     "metadata": {},
     "output_type": "execute_result"
    },
    {
     "name": "stdout",
     "output_type": "stream",
     "text": [
      "\n",
      "========================================================\n",
      " Results from Balanced RF Model\n",
      "========================================================\n",
      "\n",
      "\n",
      "Balanced RF Model's average AUC: 0.831\n",
      "\n",
      "\n",
      "              precision    recall  f1-score   support\n",
      "\n",
      "           0       0.88      0.69      0.78       502\n",
      "           1       0.50      0.77      0.61       202\n",
      "\n",
      "   micro avg       0.71      0.71      0.71       704\n",
      "   macro avg       0.69      0.73      0.69       704\n",
      "weighted avg       0.77      0.71      0.73       704\n",
      "\n",
      "\n",
      "========================================================\n",
      "\n",
      "\n",
      "BRF Model's Accuracy Score is: 0.7144886363636364\n",
      "BRF Model's Precision Score is 0.7735319447760539\n",
      "\n",
      "\n"
     ]
    }
   ],
   "source": [
    "from imblearn.ensemble import BalancedRandomForestClassifier\n",
    "from sklearn.metrics import balanced_accuracy_score\n",
    "from imblearn.metrics import geometric_mean_score\n",
    "\n",
    "# Ensemble classifier using samplers internally\n",
    "\n",
    "brf = BalancedRandomForestClassifier(n_estimators = 100, \n",
    "                                     random_state=123,\n",
    "                                     n_jobs = -1, \n",
    "                                     max_depth = 2, \n",
    "                                     criterion = 'gini')\n",
    "\n",
    "pip_baseline = make_pipeline(RobustScaler(), brf)\n",
    "scores = cross_val_score(pip_baseline,\n",
    "                         X_train, y_train,\n",
    "                         scoring = \"roc_auc\", cv = 10)\n",
    "\n",
    "\n",
    "brf.fit(X_train, y_train)\n",
    "y_pred_brf = brf.predict(X_test)\n",
    "\n",
    "\n",
    "print(\"\\n========================================================\")\n",
    "print(\" Results from Balanced RF Model\" )\n",
    "print(\"========================================================\")\n",
    "print(\"\\n\")\n",
    "print(f\"Balanced RF Model's average AUC: {scores.mean():.3f}\")\n",
    "print(\"\\n\")\n",
    "print(classification_report(y_test, y_pred_brf))\n",
    "print(\"\\n========================================================\")\n",
    "\n",
    "print(\"\\n\")\n",
    "print(f\"BRF Model's Accuracy Score is: {accuracy_score(y_true, y_pred_brf)}\")\n",
    "print(f\"BRF Model's Precision Score is {precision_score(y_true, y_pred_brf, average='weighted')}\")\n",
    "print(\"\\n\")\n",
    "\n"
   ]
  },
  {
   "cell_type": "code",
   "execution_count": 78,
   "metadata": {},
   "outputs": [
    {
     "name": "stdout",
     "output_type": "stream",
     "text": [
      "\n",
      "========================================================\n",
      "Feature Importance\n",
      "========================================================\n",
      "\n",
      "\n",
      "Contract_Month-to-month                    0.179951\n",
      "OnlineSecurity_No                          0.082114\n",
      "TotalCharges                               0.078465\n",
      "Contract_Two year                          0.074354\n",
      "tenure_group_Tenure_0-6                    0.060777\n",
      "TechSupport_No                             0.058934\n",
      "InternetService_Fiber optic                0.057581\n",
      "MonthlyCharges                             0.043263\n",
      "PaymentMethod_Electronic check             0.036676\n",
      "tenure_group_Tenure_gt_60                  0.031727\n",
      "Contract_One year                          0.029139\n",
      "OnlineBackup_No                            0.024853\n",
      "OnlineSecurity_Yes                         0.019452\n",
      "InternetService_DSL                        0.018054\n",
      "TechSupport_No internet service            0.014180\n",
      "TechSupport_Yes                            0.013555\n",
      "OnlineBackup_No internet service           0.013141\n",
      "InternetService_No                         0.012229\n",
      "DeviceProtection_No internet service       0.012194\n",
      "StreamingMovies_No internet service        0.011779\n",
      "StreamingTV_No internet service            0.011737\n",
      "DeviceProtection_No                        0.011582\n",
      "count_of_services                          0.010580\n",
      "OnlineSecurity_No internet service         0.009737\n",
      "PaperlessBilling_No                        0.006878\n",
      "PaperlessBilling_Yes                       0.006103\n",
      "OnlineBackup_Yes                           0.005110\n",
      "PaymentMethod_Credit card (automatic)      0.003455\n",
      "StreamingMovies_Yes                        0.003419\n",
      "StreamingTV_Yes                            0.003332\n",
      "Partner_Yes                                0.003310\n",
      "Dependents_Yes                             0.003204\n",
      "Partner_No                                 0.003164\n",
      "SeniorCitizen                              0.003155\n",
      "tenure_group_Tenure_6-12                   0.002966\n",
      "PaymentMethod_Bank transfer (automatic)    0.002949\n",
      "MultipleLines_Yes                          0.002873\n",
      "Dependents_No                              0.002778\n",
      "StreamingTV_No                             0.002770\n",
      "StreamingMovies_No                         0.002638\n",
      "tenure_group_Tenure_54-60                  0.002622\n",
      "PaymentMethod_Mailed check                 0.002206\n",
      "MultipleLines_No                           0.002008\n",
      "gender_Male                                0.001912\n",
      "DeviceProtection_Yes                       0.001858\n",
      "tenure_group_Tenure_24-30                  0.001851\n",
      "tenure_group_Tenure_18-24                  0.001828\n",
      "gender_Female                              0.001726\n",
      "tenure_group_Tenure_48-54                  0.001381\n",
      "PhoneService_No                            0.001293\n",
      "PhoneService_Yes                           0.001269\n",
      "tenure_group_Tenure_30-36                  0.001210\n",
      "tenure_group_Tenure_12-18                  0.001199\n",
      "MultipleLines_No phone service             0.001186\n",
      "tenure_group_Tenure_36-42                  0.001158\n",
      "tenure_group_Tenure_42-48                  0.001136\n",
      "dtype: float64\n"
     ]
    }
   ],
   "source": [
    "# Plot features importance\n",
    "\n",
    "importances = brf.feature_importances_\n",
    "indices = np.argsort(brf.feature_importances_)[::-1]\n",
    "\n",
    "feat_imp = pd.Series(importances[indices], df.columns[df.columns != \"Churn\"][indices])\n",
    "\n",
    "print(\"\\n========================================================\")\n",
    "print(\"Feature Importance\" )\n",
    "print(\"========================================================\")\n",
    "print(\"\\n\")\n",
    "\n",
    "print(feat_imp)"
   ]
  },
  {
   "cell_type": "code",
   "execution_count": 79,
   "metadata": {},
   "outputs": [
    {
     "data": {
      "text/plain": [
       "<Figure size 576x288 with 0 Axes>"
      ]
     },
     "metadata": {},
     "output_type": "display_data"
    },
    {
     "data": {
      "image/png": "[encoded data removed]",
      "text/plain": [
       "<Figure size 288x288 with 1 Axes>"
      ]
     },
     "metadata": {},
     "output_type": "display_data"
    }
   ],
   "source": [
    "# Random Forest Confusion Matrix\n",
    "y_true = y_test\n",
    "conf_mat = confusion_matrix(y_true, y_pred_brf)\n",
    "plt.figure(figsize=(8, 4))\n",
    "plt.matshow(conf_mat, cmap = plt.cm.Reds, alpha=0.2)\n",
    "for i in range(2):\n",
    "    for j in range(2):\n",
    "        plt.text(x = j, y = i, s = conf_mat[i, j], ha=\"center\", va=\"center\")\n",
    "plt.title(\"Confusion matrix\", y=1.1, fontdict={\"fontsize\": 20})\n",
    "plt.xlabel(\"Predicted\", fontdict={\"fontsize\": 14})\n",
    "plt.ylabel(\"Actual\", fontdict={\"fontsize\": 14});"
   ]
  },
  {
   "cell_type": "code",
   "execution_count": 74,
   "metadata": {},
   "outputs": [
    {
     "data": {
      "text/plain": [
       "'\\nRobustScaler: Standarization will be less influenced by the outliers, \\ni.e. more robust. It centers the data around the median and \\nscale it using interquartile range (IQR)\\n'"
      ]
     },
     "execution_count": 74,
     "metadata": {},
     "output_type": "execute_result"
    },
    {
     "data": {
      "text/plain": [
       "XGBClassifier(base_score=0.5, booster='gbtree', colsample_bylevel=1,\n",
       "       colsample_bytree=0.7, gamma=0.1, learning_rate=0.1,\n",
       "       max_delta_step=0, max_depth=2, min_child_weight=6, missing=None,\n",
       "       n_estimators=200, n_jobs=1, nthread=None,\n",
       "       objective='binary:logistic', random_state=123, reg_alpha=0.01,\n",
       "       reg_lambda=1, scale_pos_weight=1, seed=None, silent=True,\n",
       "       subsample=0.7)"
      ]
     },
     "execution_count": 74,
     "metadata": {},
     "output_type": "execute_result"
    },
    {
     "name": "stdout",
     "output_type": "stream",
     "text": [
      "\n",
      "========================================================\n",
      " Results from XGBoost \n",
      "========================================================\n",
      "\n",
      "\n",
      "XGB's average AUC: 0.848\n",
      "\n",
      "\n",
      "              precision    recall  f1-score   support\n",
      "\n",
      "           0       0.81      0.93      0.87       502\n",
      "           1       0.72      0.47      0.57       202\n",
      "\n",
      "   micro avg       0.80      0.80      0.80       704\n",
      "   macro avg       0.77      0.70      0.72       704\n",
      "weighted avg       0.79      0.80      0.78       704\n",
      "\n",
      "\n",
      "========================================================\n",
      "\n",
      "\n",
      "XGBoost's Accuracy Score is: 0.8096590909090909\n",
      "XGBoost's Precision Score is 0.8029870087362231\n",
      "\n",
      "\n"
     ]
    }
   ],
   "source": [
    "# XGBoost Model\n",
    "import xgboost as xgb\n",
    "from xgboost import XGBClassifier\n",
    "xgb = XGBClassifier(objective=\"binary:logistic\",\n",
    "                    learning_rate=0.1,\n",
    "                    n_estimators=200,\n",
    "                    max_depth=2,\n",
    "                    subsample=0.7,\n",
    "                    random_state=123,\n",
    "                    colsample_bytree = 0.7,\n",
    "                    gamma = 0.1,\n",
    "                    min_child_weight = 6,\n",
    "                    reg_alpha = 0.01)\n",
    "\n",
    "pip_baseline = make_pipeline(RobustScaler(), xgb)\n",
    "scores_xgb = cross_val_score(pip_baseline,\n",
    "                         X_train, y_train,\n",
    "                         scoring = \"roc_auc\", cv = 5)\n",
    "\n",
    "'''\n",
    "RobustScaler: Standarization will be less influenced by the outliers, \n",
    "i.e. more robust. It centers the data around the median and \n",
    "scale it using interquartile range (IQR)\n",
    "'''\n",
    "\n",
    "# fit XGB to plot feature importances\n",
    "xgb.fit(X_train, y_train)\n",
    "\n",
    "xgb_predictions = xgb.predict(X_test)\n",
    "\n",
    "print(\"\\n========================================================\")\n",
    "print(\" Results from XGBoost \" )\n",
    "print(\"========================================================\")\n",
    "print(\"\\n\")\n",
    "print(f\"XGB's average AUC: {scores_xgb.mean():.3f}\")\n",
    "print(\"\\n\")\n",
    "print(classification_report(y_test, xgb_predictions))\n",
    "print(\"\\n========================================================\")\n",
    "print(\"\\n\")\n",
    "print(f\"XGBoost's Accuracy Score is: {accuracy_score(y_true, y_pred)}\")\n",
    "print(f\"XGBoost's Precision Score is {precision_score(y_true, y_pred, average='weighted')}\")\n",
    "print(\"\\n\")"
   ]
  },
  {
   "cell_type": "code",
   "execution_count": 75,
   "metadata": {},
   "outputs": [
    {
     "data": {
      "text/plain": [
       "<Figure size 1152x576 with 0 Axes>"
      ]
     },
     "metadata": {},
     "output_type": "display_data"
    },
    {
     "data": {
      "image/png": "[encoded data removed]",
      "text/plain": [
       "<Figure size 288x288 with 1 Axes>"
      ]
     },
     "metadata": {},
     "output_type": "display_data"
    }
   ],
   "source": [
    "# XGBoost Confusion Matrix\n",
    "y_true = y_test\n",
    "y_pred = xgb_predictions\n",
    "conf_mat = confusion_matrix(y_true, y_pred)\n",
    "plt.figure(figsize=(16, 8))\n",
    "plt.matshow(conf_mat, cmap = plt.cm.Reds, alpha=0.2)\n",
    "for i in range(2):\n",
    "    for j in range(2):\n",
    "        plt.text(x = j, y = i, s = conf_mat[i, j], ha=\"center\", va=\"center\")\n",
    "plt.title(\"Confusion matrix\", y=1.1, fontdict={\"fontsize\": 20})\n",
    "plt.xlabel(\"Predicted\", fontdict={\"fontsize\": 14})\n",
    "plt.ylabel(\"Actual\", fontdict={\"fontsize\": 14});"
   ]
  },
  {
   "cell_type": "code",
   "execution_count": 76,
   "metadata": {},
   "outputs": [],
   "source": [
    "# First Run Scores\n",
    "# Baseline: 0.74\n",
    "# LR: 0.845\n",
    "# RF: 0.832\n",
    "# XG: 0.844\n",
    "\n",
    "# Second Run Scores - skipped log of charges & test size at 0.15\n",
    "# Baseline: 0.74\n",
    "# LR: 0.845\n",
    "# RF: 0.836\n",
    "# XG: 0.846\n",
    "\n",
    "# Third Run Scores - skipped log of charges & test size at 0.15\n",
    "# Baseline: 0.74\n",
    "# LR: 0.845\n",
    "# RF: 0.836\n",
    "# XG: 0.846\n",
    "\n",
    "\n",
    "# Fourth Run Scores - skipped log of charges & test size at 0.15 & undummified data for rf\n",
    "# Baseline: 0.74\n",
    "# LR: 0.845\n",
    "# RF: 0.836\n",
    "# XG: 0.846\n",
    "\n"
   ]
  },
  {
   "cell_type": "code",
   "execution_count": null,
   "metadata": {},
   "outputs": [],
   "source": []
  }
 ],
 "metadata": {
  "kernelspec": {
   "display_name": "Python 3",
   "language": "python",
   "name": "python3"
  },
  "language_info": {
   "codemirror_mode": {
    "name": "ipython",
    "version": 3
   },
   "file_extension": ".py",
   "mimetype": "text/x-python",
   "name": "python",
   "nbconvert_exporter": "python",
   "pygments_lexer": "ipython3",
   "version": "3.6.6"
  }
 },
 "nbformat": 4,
 "nbformat_minor": 2
}
